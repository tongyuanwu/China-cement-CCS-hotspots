{
 "cells": [
  {
   "cell_type": "code",
   "execution_count": 1,
   "id": "466edb3d",
   "metadata": {},
   "outputs": [],
   "source": [
    "import numpy as np\n",
    "import pandas as pd\n",
    "import geopandas as gpd\n",
    "import matplotlib as mpl\n",
    "import matplotlib.pyplot as plt\n",
    "import seaborn as sns"
   ]
  },
  {
   "cell_type": "code",
   "execution_count": 2,
   "id": "fdfcb86f",
   "metadata": {},
   "outputs": [],
   "source": [
    "China_province_map_ = gpd.read_file(r'../data/China-maps/province.shp')\n",
    "China_city_map = gpd.read_file(r'../data/China-maps/city.shp')\n",
    "China_county_map_ = gpd.read_file(r'../data/China-maps/county.shp')\n",
    "China_nine_lines_map_ = gpd.read_file(r'../data/China-maps/boundary.shp')\n",
    "\n",
    "China_province_map = China_province_map_.to_crs(2381) \n",
    "China_county_map = China_county_map_.to_crs(2381)\n",
    "China_nine_lines_map = China_nine_lines_map_.to_crs(2381)"
   ]
  },
  {
   "cell_type": "code",
   "execution_count": 5,
   "id": "7aeb4a21",
   "metadata": {},
   "outputs": [],
   "source": [
    "prv3al_ = gpd.read_file(r'../data/prv3al/prv3al.shp')\n",
    "prv3al = prv3al_.to_crs('EPSG:4326')\n",
    "oilfield_sites_ = pd.read_excel(r'../data/油气藏数据.xlsx')"
   ]
  },
  {
   "cell_type": "code",
   "execution_count": 6,
   "id": "fb337805",
   "metadata": {},
   "outputs": [],
   "source": [
    "oilfield_sites = gpd.GeoDataFrame(data=oilfield_sites_, geometry=gpd.points_from_xy(oilfield_sites_['经度'], oilfield_sites_['纬度']), crs='EPSG:4326')\n",
    "oilfield_sites = oilfield_sites[oilfield_sites['selected'] == 1]\n",
    "oilfield_sites = oilfield_sites[~oilfield_sites['经度'].isna()]\n",
    "oilfield_sites['石油地质储量（万t）'] = oilfield_sites['石油地质储量（万t）'].astype(float)\n",
    "oilfield_sites['OOIP'] = oilfield_sites['石油地质储量（万t）'] / 100   # unit: Mt\n",
    "oilfield_sites.reset_index(inplace=True, drop=True)\n",
    "oilfield_sites = oilfield_sites.to_crs(2381)"
   ]
  },
  {
   "cell_type": "code",
   "execution_count": 7,
   "id": "1a7b21f8",
   "metadata": {},
   "outputs": [],
   "source": [
    "selected_basin_index = [\n",
    "    3, \n",
    "    4, \n",
    "    7, \n",
    "    8, \n",
    "    10, \n",
    "    13, \n",
    "    18,\n",
    "    21, \n",
    "    26, \n",
    "    35, \n",
    "    39, \n",
    "    40, \n",
    "    43, \n",
    "    45, \n",
    "    52, # Korea Bay Basin \n",
    "    53,\n",
    "    56, \n",
    "    64, # Subei Yellow Sea Basin\n",
    "    66, # Qiangtang Tanggula Basin \n",
    "    68, \n",
    "    73, # East China Sea Basin \n",
    "    79, # Nanyang Basin \n",
    "    81, \n",
    "    82, # Cuoqing Lunpola Basin\n",
    "    84, # Qabdu Basin, \n",
    "    85, \n",
    "    90, # Lhasa Basin \n",
    "    92, \n",
    "    93, \n",
    "    94, \n",
    "    97, \n",
    "    99, \n",
    "    100, # Taixinan Basin\n",
    "    101, \n",
    "    103, # Pearl River Mouth Basin\n",
    "    107, \n",
    "    108, \n",
    "    112, \n",
    "]"
   ]
  },
  {
   "cell_type": "code",
   "execution_count": 8,
   "id": "1601e707",
   "metadata": {},
   "outputs": [],
   "source": [
    "China_basins_ = prv3al.loc[selected_basin_index]\n",
    "China_basins = China_basins_.to_crs(2381)"
   ]
  },
  {
   "cell_type": "code",
   "execution_count": 9,
   "id": "c32ebfac",
   "metadata": {},
   "outputs": [
    {
     "data": {
      "image/png": "[encoded data removed]",
      "text/plain": [
       "<Figure size 640x480 with 2 Axes>"
      ]
     },
     "metadata": {},
     "output_type": "display_data"
    }
   ],
   "source": [
    "np.random.seed(100)\n",
    "n = 5000\n",
    "q = np.random.uniform(0.015, 0.025, n)\n",
    "h = np.random.uniform(150, 250, n)\n",
    "gg = q * h * 0.2 * 0.71 * 0.05\n",
    "\n",
    "B_0 = np.random.uniform(1.2, 2.0, n)\n",
    "EXTRA = np.random.uniform(0.053, 0.183, n)\n",
    "R_CO2 = np.random.uniform(2.113, 3.522)\n",
    "hh = (B_0 / 0.81) * 0.75 * EXTRA * R_CO2\n",
    "\n",
    "plt.subplot(121), plt.hist(gg)\n",
    "plt.subplot(122), plt.hist(hh)\n",
    "plt.show()"
   ]
  },
  {
   "cell_type": "code",
   "execution_count": 10,
   "id": "132cec8d",
   "metadata": {},
   "outputs": [],
   "source": [
    "intersection = gpd.overlay(China_county_map, China_basins, how='intersection')\n",
    "intersection = intersection.to_crs('ESRI:54009')\n",
    "intersection['intersect_area_sqm'] = intersection.geometry.area\n",
    "intersection['intersect_area'] = intersection['intersect_area_sqm'] / 1e6"
   ]
  },
  {
   "cell_type": "code",
   "execution_count": 11,
   "id": "5b1f89f4",
   "metadata": {},
   "outputs": [],
   "source": [
    "oilfields_within_counties = gpd.sjoin(oilfield_sites, China_county_map, how='left', predicate='within')\n",
    "unassigned_oilfields = oilfields_within_counties[oilfields_within_counties['index_right'].isna()]\n",
    "total_ooip_per_county = oilfields_within_counties.dropna(subset=['index_right']).groupby(['省', '市', '县', '县代码'])['OOIP'].sum().reset_index()"
   ]
  },
  {
   "cell_type": "code",
   "execution_count": 12,
   "id": "7d2b339f",
   "metadata": {},
   "outputs": [],
   "source": [
    "for a_code in intersection['县代码'].unique():\n",
    "    a_area = intersection[intersection['县代码'] == a_code]['intersect_area'].sum()\n",
    "    the_index = China_county_map[China_county_map['县代码'] == a_code].index[0]\n",
    "    China_county_map.loc[the_index, 'basin_area'] = a_area\n",
    "    aa, bb, cc = np.percentile(gg, [2.5, 50, 97.5])\n",
    "    China_county_map.loc[the_index, 'G_DSA'] = a_area * bb\n",
    "    China_county_map.loc[the_index, 'G_DSA_low'] = a_area * aa\n",
    "    China_county_map.loc[the_index, 'G_DSA_high'] = a_area * cc"
   ]
  },
  {
   "cell_type": "code",
   "execution_count": 13,
   "id": "6ec451bc",
   "metadata": {},
   "outputs": [],
   "source": [
    "for a_code in total_ooip_per_county['县代码'].unique():\n",
    "    the_index = China_county_map[China_county_map['县代码'] == a_code].index[0]\n",
    "    the_OOIP = total_ooip_per_county[total_ooip_per_county['县代码'] == a_code]['OOIP'].sum()\n",
    "    China_county_map.loc[the_index, 'OOIP'] = the_OOIP\n",
    "    aa, bb, cc = np.percentile(hh, [2.5, 50, 97.5])\n",
    "    China_county_map.loc[the_index, 'G_EOR'] = the_OOIP * bb\n",
    "    China_county_map.loc[the_index, 'G_EOR_low'] = the_OOIP * aa\n",
    "    China_county_map.loc[the_index, 'G_EOR_high'] = the_OOIP * cc"
   ]
  },
  {
   "cell_type": "code",
   "execution_count": 14,
   "id": "49447e17",
   "metadata": {},
   "outputs": [],
   "source": [
    "China_county_map['G_DSA'] = China_county_map['G_DSA'].fillna(0)\n",
    "China_county_map['G_EOR'] = China_county_map['G_EOR'].fillna(0)\n",
    "China_county_map['G_DSA_low'] = China_county_map['G_DSA_low'].fillna(0)\n",
    "China_county_map['G_EOR_low'] = China_county_map['G_EOR_low'].fillna(0)\n",
    "China_county_map['G_DSA_high'] = China_county_map['G_DSA_high'].fillna(0)\n",
    "China_county_map['G_EOR_high'] = China_county_map['G_EOR_high'].fillna(0)"
   ]
  },
  {
   "cell_type": "code",
   "execution_count": 16,
   "id": "6ede0a87",
   "metadata": {},
   "outputs": [],
   "source": [
    "China_county_map[['省', '市', '县', '县代码', 'basin_area', 'OOIP', 'G_DSA', 'G_EOR', 'G_DSA_low', 'G_DSA_high', 'G_EOR_low', 'G_EOR_high']].to_csv(r'../outputs/China_county_carbon_storage.csv', index=False, encoding='utf-8-sig')"
   ]
  }
 ],
 "metadata": {
  "kernelspec": {
   "display_name": "wty",
   "language": "python",
   "name": "python3"
  },
  "language_info": {
   "codemirror_mode": {
    "name": "ipython",
    "version": 3
   },
   "file_extension": ".py",
   "mimetype": "text/x-python",
   "name": "python",
   "nbconvert_exporter": "python",
   "pygments_lexer": "ipython3",
   "version": "3.10.16"
  }
 },
 "nbformat": 4,
 "nbformat_minor": 5
}
